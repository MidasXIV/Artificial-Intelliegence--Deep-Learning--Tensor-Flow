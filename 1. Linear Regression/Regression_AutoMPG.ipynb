{
  "nbformat": 4,
  "nbformat_minor": 0,
  "metadata": {
    "colab": {
      "name": "Regression - AutoMPG.ipynb",
      "version": "0.3.2",
      "provenance": [],
      "collapsed_sections": [],
      "include_colab_link": true
    },
    "kernelspec": {
      "name": "python3",
      "display_name": "Python 3"
    }
  },
  "cells": [
    {
      "cell_type": "markdown",
      "metadata": {
        "id": "view-in-github",
        "colab_type": "text"
      },
      "source": [
        "<a href=\"https://colab.research.google.com/github/MidasXIV/Artificial-Intelliegence--Deep-Learning--Tensor-Flow/blob/master/1.%20Linear%20Regression/Regression_AutoMPG.ipynb\" target=\"_parent\"><img src=\"https://colab.research.google.com/assets/colab-badge.svg\" alt=\"Open In Colab\"/></a>"
      ]
    },
    {
      "cell_type": "markdown",
      "metadata": {
        "id": "uyY0tVqg78Js",
        "colab_type": "text"
      },
      "source": [
        "## Regression : Miles Per Gallon Dataset\n"
      ]
    },
    {
      "cell_type": "markdown",
      "metadata": {
        "id": "c31X2Jyk8ElA",
        "colab_type": "text"
      },
      "source": [
        "### STEP 1 : Getting the Data\n",
        "\n",
        "* Make sure you Fix the data, remove \"NA\" values.\n",
        "* view the data, shape.\n",
        "\n",
        "This is a common dataset that contains measurements for cars and their MPG. The following fields are present:\n",
        "\n",
        "* mpg - The miles per gallon for the car.\n",
        "* cylinders - The number of cylinders) in the car.\n",
        "* displacement - The engine displacement.\n",
        "* horsepower - The horsepower produced by the car/engine.\n",
        "* weight - The weight of the car.\n",
        "* acceleration - The acceleration of the car.\n",
        "* year - The year the car was produced.\n",
        "* origin - Where the car was produced, 1=USA, 2=Europe, 3=Asia.\n",
        "* name - The name of the car.\n",
        "\n",
        "\n",
        "\n"
      ]
    },
    {
      "cell_type": "markdown",
      "metadata": {
        "id": "8xmhMvjaGe81",
        "colab_type": "text"
      },
      "source": [
        "#### STEP 1.1 Identify Missing Values"
      ]
    },
    {
      "cell_type": "code",
      "metadata": {
        "id": "z9CWxAzu8ZXs",
        "colab_type": "code",
        "colab": {}
      },
      "source": [
        "import pandas as pd\n",
        "import numpy  as np\n",
        "\n",
        "df = pd.read_csv(\"https://data.heatonresearch.com/data/t81-558/auto-mpg.csv\",na_values=['NA', '?'])\n",
        "\n",
        "print(\"SHAPE :: \"+ str(df.shape))                            # To find the number of features and observations\n",
        "print(\"Any NA values ? : \" + str(df.isnull().values.any()))  # To find if any values are NA\n",
        "print(df.isnull().any())                                     # Find which columns have NA values\n",
        "print(df.isnull().sum().sum())                               # This returns an integer of the total number of NaN values\n",
        "nan_rows = df[df['horsepower'].isnull()]                     # To find out which rows have NaNs in a specific column\n",
        "nan_rows"
      ],
      "execution_count": 0,
      "outputs": []
    },
    {
      "cell_type": "markdown",
      "metadata": {
        "id": "YeGu_8wMGiOW",
        "colab_type": "text"
      },
      "source": [
        "#### STEP 1.2 Fixing Missing Values"
      ]
    },
    {
      "cell_type": "code",
      "metadata": {
        "id": "80Vpo3UYA-V1",
        "colab_type": "code",
        "colab": {
          "base_uri": "https://localhost:8080/",
          "height": 54
        },
        "outputId": "046afa09-dbe4-4acf-d4c1-e3ca58c06605"
      },
      "source": [
        "# Handle missing value, by placing the median in empty places\n",
        "df['horsepower'] = df['horsepower'].fillna(df['horsepower'].median())\n",
        "\n",
        "print(\"Any NA values ? : \" + str(df.isnull().values.any()))\n",
        "\n",
        "df.index"
      ],
      "execution_count": 43,
      "outputs": [
        {
          "output_type": "stream",
          "text": [
            "Any NA values ? : False\n"
          ],
          "name": "stdout"
        },
        {
          "output_type": "execute_result",
          "data": {
            "text/plain": [
              "RangeIndex(start=0, stop=398, step=1)"
            ]
          },
          "metadata": {
            "tags": []
          },
          "execution_count": 43
        }
      ]
    },
    {
      "cell_type": "code",
      "metadata": {
        "id": "YNFZ3YkJCU74",
        "colab_type": "code",
        "colab": {
          "base_uri": "https://localhost:8080/",
          "height": 363
        },
        "outputId": "d3558f4b-f93c-49fa-8cbc-ddd2a74d3b2c"
      },
      "source": [
        "# Shuffle\n",
        "np.random.seed(42)                                  # makes the random numbers predictable\n",
        "df = df.reindex(np.random.permutation(df.index))    # changes the row labels and column labels of a DataFrame\n",
        "df.reset_index(inplace=True, drop=True)             # generate a new DataFrame or Series with the index reset.\n",
        "df[0:10]                                            # View random 10 entries"
      ],
      "execution_count": 36,
      "outputs": [
        {
          "output_type": "execute_result",
          "data": {
            "text/html": [
              "<div>\n",
              "<style scoped>\n",
              "    .dataframe tbody tr th:only-of-type {\n",
              "        vertical-align: middle;\n",
              "    }\n",
              "\n",
              "    .dataframe tbody tr th {\n",
              "        vertical-align: top;\n",
              "    }\n",
              "\n",
              "    .dataframe thead th {\n",
              "        text-align: right;\n",
              "    }\n",
              "</style>\n",
              "<table border=\"1\" class=\"dataframe\">\n",
              "  <thead>\n",
              "    <tr style=\"text-align: right;\">\n",
              "      <th></th>\n",
              "      <th>mpg</th>\n",
              "      <th>cylinders</th>\n",
              "      <th>displacement</th>\n",
              "      <th>horsepower</th>\n",
              "      <th>weight</th>\n",
              "      <th>acceleration</th>\n",
              "      <th>year</th>\n",
              "      <th>origin</th>\n",
              "      <th>name</th>\n",
              "    </tr>\n",
              "  </thead>\n",
              "  <tbody>\n",
              "    <tr>\n",
              "      <th>0</th>\n",
              "      <td>33.0</td>\n",
              "      <td>4</td>\n",
              "      <td>91.0</td>\n",
              "      <td>53.0</td>\n",
              "      <td>1795</td>\n",
              "      <td>17.4</td>\n",
              "      <td>76</td>\n",
              "      <td>3</td>\n",
              "      <td>honda civic</td>\n",
              "    </tr>\n",
              "    <tr>\n",
              "      <th>1</th>\n",
              "      <td>28.0</td>\n",
              "      <td>4</td>\n",
              "      <td>120.0</td>\n",
              "      <td>79.0</td>\n",
              "      <td>2625</td>\n",
              "      <td>18.6</td>\n",
              "      <td>82</td>\n",
              "      <td>1</td>\n",
              "      <td>ford ranger</td>\n",
              "    </tr>\n",
              "    <tr>\n",
              "      <th>2</th>\n",
              "      <td>19.0</td>\n",
              "      <td>6</td>\n",
              "      <td>232.0</td>\n",
              "      <td>100.0</td>\n",
              "      <td>2634</td>\n",
              "      <td>13.0</td>\n",
              "      <td>71</td>\n",
              "      <td>1</td>\n",
              "      <td>amc gremlin</td>\n",
              "    </tr>\n",
              "    <tr>\n",
              "      <th>3</th>\n",
              "      <td>13.0</td>\n",
              "      <td>8</td>\n",
              "      <td>318.0</td>\n",
              "      <td>150.0</td>\n",
              "      <td>3940</td>\n",
              "      <td>13.2</td>\n",
              "      <td>76</td>\n",
              "      <td>1</td>\n",
              "      <td>plymouth volare premier v8</td>\n",
              "    </tr>\n",
              "    <tr>\n",
              "      <th>4</th>\n",
              "      <td>14.0</td>\n",
              "      <td>8</td>\n",
              "      <td>318.0</td>\n",
              "      <td>150.0</td>\n",
              "      <td>4237</td>\n",
              "      <td>14.5</td>\n",
              "      <td>73</td>\n",
              "      <td>1</td>\n",
              "      <td>plymouth fury gran sedan</td>\n",
              "    </tr>\n",
              "    <tr>\n",
              "      <th>5</th>\n",
              "      <td>27.0</td>\n",
              "      <td>4</td>\n",
              "      <td>97.0</td>\n",
              "      <td>88.0</td>\n",
              "      <td>2100</td>\n",
              "      <td>16.5</td>\n",
              "      <td>72</td>\n",
              "      <td>3</td>\n",
              "      <td>toyota corolla 1600 (sw)</td>\n",
              "    </tr>\n",
              "    <tr>\n",
              "      <th>6</th>\n",
              "      <td>24.0</td>\n",
              "      <td>4</td>\n",
              "      <td>140.0</td>\n",
              "      <td>92.0</td>\n",
              "      <td>2865</td>\n",
              "      <td>16.4</td>\n",
              "      <td>82</td>\n",
              "      <td>1</td>\n",
              "      <td>ford fairmont futura</td>\n",
              "    </tr>\n",
              "    <tr>\n",
              "      <th>7</th>\n",
              "      <td>13.0</td>\n",
              "      <td>8</td>\n",
              "      <td>440.0</td>\n",
              "      <td>215.0</td>\n",
              "      <td>4735</td>\n",
              "      <td>11.0</td>\n",
              "      <td>73</td>\n",
              "      <td>1</td>\n",
              "      <td>chrysler new yorker brougham</td>\n",
              "    </tr>\n",
              "    <tr>\n",
              "      <th>8</th>\n",
              "      <td>17.0</td>\n",
              "      <td>8</td>\n",
              "      <td>260.0</td>\n",
              "      <td>110.0</td>\n",
              "      <td>4060</td>\n",
              "      <td>19.0</td>\n",
              "      <td>77</td>\n",
              "      <td>1</td>\n",
              "      <td>oldsmobile cutlass supreme</td>\n",
              "    </tr>\n",
              "    <tr>\n",
              "      <th>9</th>\n",
              "      <td>21.0</td>\n",
              "      <td>6</td>\n",
              "      <td>200.0</td>\n",
              "      <td>NaN</td>\n",
              "      <td>2875</td>\n",
              "      <td>17.0</td>\n",
              "      <td>74</td>\n",
              "      <td>1</td>\n",
              "      <td>ford maverick</td>\n",
              "    </tr>\n",
              "  </tbody>\n",
              "</table>\n",
              "</div>"
            ],
            "text/plain": [
              "    mpg  cylinders  displacement  ...  year  origin                          name\n",
              "0  33.0          4          91.0  ...    76       3                   honda civic\n",
              "1  28.0          4         120.0  ...    82       1                   ford ranger\n",
              "2  19.0          6         232.0  ...    71       1                   amc gremlin\n",
              "3  13.0          8         318.0  ...    76       1    plymouth volare premier v8\n",
              "4  14.0          8         318.0  ...    73       1      plymouth fury gran sedan\n",
              "5  27.0          4          97.0  ...    72       3      toyota corolla 1600 (sw)\n",
              "6  24.0          4         140.0  ...    82       1          ford fairmont futura\n",
              "7  13.0          8         440.0  ...    73       1  chrysler new yorker brougham\n",
              "8  17.0          8         260.0  ...    77       1    oldsmobile cutlass supreme\n",
              "9  21.0          6         200.0  ...    74       1                 ford maverick\n",
              "\n",
              "[10 rows x 9 columns]"
            ]
          },
          "metadata": {
            "tags": []
          },
          "execution_count": 36
        }
      ]
    },
    {
      "cell_type": "code",
      "metadata": {
        "id": "JVLKUac7Go-Z",
        "colab_type": "code",
        "colab": {}
      },
      "source": [
        "# Pandas to Numpy\n",
        "names = ['cylinders', 'displacement', 'horsepower', 'weight','acceleration', 'year', 'origin']\n",
        "x = df[names].values\n",
        "y = df['mpg'].values # regression\n",
        "\n",
        "# Split into train/test\n",
        "x_train, x_test, y_train, y_test = train_test_split(x, y, test_size=0.25, random_state=45)"
      ],
      "execution_count": 0,
      "outputs": []
    },
    {
      "cell_type": "code",
      "metadata": {
        "id": "qAJBEg79G1-r",
        "colab_type": "code",
        "colab": {}
      },
      "source": [
        "# Simple function to evaluate the coefficients of a regression\n",
        "%matplotlib inline    \n",
        "from IPython.display import display, HTML    \n",
        "\n",
        "def report_coef(names,coef,intercept):\n",
        "    r = pd.DataFrame( { 'coef': coef, 'positive': coef>=0  }, index = names )\n",
        "    r = r.sort_values(by=['coef'])\n",
        "    display(r)\n",
        "    print(f\"Intercept: {intercept}\")\n",
        "    r['coef'].plot(kind='barh', color=r['positive'].map({True: 'b', False: 'r'}))"
      ],
      "execution_count": 0,
      "outputs": []
    },
    {
      "cell_type": "markdown",
      "metadata": {
        "id": "hc6F7kL_F4Z1",
        "colab_type": "text"
      },
      "source": [
        "### STEP 2 : Making the Model"
      ]
    },
    {
      "cell_type": "markdown",
      "metadata": {
        "id": "WSCvx4U5MExx",
        "colab_type": "text"
      },
      "source": [
        "#### Step : 2.1 Importing Dependencies"
      ]
    },
    {
      "cell_type": "code",
      "metadata": {
        "id": "nBaV9fcQLWs0",
        "colab_type": "code",
        "colab": {}
      },
      "source": [
        "import tensorflow as tf\n",
        "# from tensorflow.keras.models    import Sequential\n",
        "# from tensorflow.keras.layers    import Dense, Activation\n",
        "from tensorflow.keras.callbacks import EarlyStopping"
      ],
      "execution_count": 0,
      "outputs": []
    },
    {
      "cell_type": "markdown",
      "metadata": {
        "id": "caUGgaz_MJCD",
        "colab_type": "text"
      },
      "source": [
        "#### Step 2.2 : Creating LAyers and Models"
      ]
    },
    {
      "cell_type": "code",
      "metadata": {
        "id": "HWamJEPNMQEJ",
        "colab_type": "code",
        "colab": {
          "base_uri": "https://localhost:8080/",
          "height": 3732
        },
        "outputId": "135d1b96-d7a9-432b-b6c8-3b6027c4ebd0"
      },
      "source": [
        "I0 = tf.keras.layers.Dense(units=20,input_dim=x_train.shape[1],activation='relu')\n",
        "I1 = tf.keras.layers.Dense(units=5,activation='relu')\n",
        "I2 = tf.keras.layers.Dense(units=1)\n",
        "\n",
        "model = tf.keras.Sequential([I0,I1,I2])\n",
        "\n",
        "model.compile(loss='mean_squared_error',optimizer=tf.keras.optimizers.Adam(0.1))\n",
        "\n",
        "monitor = EarlyStopping(monitor='val_loss', min_delta=1e-3, patience=5, verbose=0, mode='auto', restore_best_weights=True)\n",
        "history = model.fit(x_train,y_train,validation_data=(x_test,y_test),callbacks=[monitor],verbose=0,epochs=200)\n",
        "\n",
        "# history = model.fit(x_train,y_train,verbose=True,epochs=100)\n",
        "\n",
        "# Predict\n",
        "pred = model.predict(x_test)\n",
        "\n",
        "# Measure RMSE error.  RMSE is common for regression.\n",
        "score = np.sqrt(metrics.mean_squared_error(pred,y_test))\n",
        "print(f\"Final score (RMSE): {score}\")\n",
        "\n"
      ],
      "execution_count": 68,
      "outputs": [
        {
          "output_type": "stream",
          "text": [
            "Epoch 1/100\n",
            "298/298 [==============================] - 1s 2ms/sample - loss: 125903.4286\n",
            "Epoch 2/100\n",
            "298/298 [==============================] - 0s 62us/sample - loss: 626.6716\n",
            "Epoch 3/100\n",
            "298/298 [==============================] - 0s 59us/sample - loss: 625.5470\n",
            "Epoch 4/100\n",
            "298/298 [==============================] - 0s 66us/sample - loss: 621.0183\n",
            "Epoch 5/100\n",
            "298/298 [==============================] - 0s 59us/sample - loss: 614.6673\n",
            "Epoch 6/100\n",
            "298/298 [==============================] - 0s 63us/sample - loss: 607.3007\n",
            "Epoch 7/100\n",
            "298/298 [==============================] - 0s 56us/sample - loss: 599.1075\n",
            "Epoch 8/100\n",
            "298/298 [==============================] - 0s 62us/sample - loss: 590.3425\n",
            "Epoch 9/100\n",
            "298/298 [==============================] - 0s 65us/sample - loss: 581.0693\n",
            "Epoch 10/100\n",
            "298/298 [==============================] - 0s 60us/sample - loss: 571.4506\n",
            "Epoch 11/100\n",
            "298/298 [==============================] - 0s 72us/sample - loss: 561.4932\n",
            "Epoch 12/100\n",
            "298/298 [==============================] - 0s 64us/sample - loss: 551.2445\n",
            "Epoch 13/100\n",
            "298/298 [==============================] - 0s 80us/sample - loss: 540.6890\n",
            "Epoch 14/100\n",
            "298/298 [==============================] - 0s 66us/sample - loss: 529.9224\n",
            "Epoch 15/100\n",
            "298/298 [==============================] - 0s 60us/sample - loss: 519.0111\n",
            "Epoch 16/100\n",
            "298/298 [==============================] - 0s 75us/sample - loss: 508.0318\n",
            "Epoch 17/100\n",
            "298/298 [==============================] - 0s 70us/sample - loss: 497.0153\n",
            "Epoch 18/100\n",
            "298/298 [==============================] - 0s 59us/sample - loss: 485.7185\n",
            "Epoch 19/100\n",
            "298/298 [==============================] - 0s 66us/sample - loss: 474.6288\n",
            "Epoch 20/100\n",
            "298/298 [==============================] - 0s 65us/sample - loss: 463.3937\n",
            "Epoch 21/100\n",
            "298/298 [==============================] - 0s 60us/sample - loss: 452.1659\n",
            "Epoch 22/100\n",
            "298/298 [==============================] - 0s 83us/sample - loss: 440.9973\n",
            "Epoch 23/100\n",
            "298/298 [==============================] - 0s 65us/sample - loss: 429.8941\n",
            "Epoch 24/100\n",
            "298/298 [==============================] - 0s 81us/sample - loss: 419.0027\n",
            "Epoch 25/100\n",
            "298/298 [==============================] - 0s 61us/sample - loss: 407.9774\n",
            "Epoch 26/100\n",
            "298/298 [==============================] - 0s 70us/sample - loss: 397.2660\n",
            "Epoch 27/100\n",
            "298/298 [==============================] - 0s 64us/sample - loss: 386.6071\n",
            "Epoch 28/100\n",
            "298/298 [==============================] - 0s 65us/sample - loss: 375.9519\n",
            "Epoch 29/100\n",
            "298/298 [==============================] - 0s 67us/sample - loss: 365.6903\n",
            "Epoch 30/100\n",
            "298/298 [==============================] - 0s 60us/sample - loss: 355.3349\n",
            "Epoch 31/100\n",
            "298/298 [==============================] - 0s 56us/sample - loss: 345.3023\n",
            "Epoch 32/100\n",
            "298/298 [==============================] - 0s 75us/sample - loss: 335.1085\n",
            "Epoch 33/100\n",
            "298/298 [==============================] - 0s 70us/sample - loss: 325.3261\n",
            "Epoch 34/100\n",
            "298/298 [==============================] - 0s 62us/sample - loss: 315.5532\n",
            "Epoch 35/100\n",
            "298/298 [==============================] - 0s 55us/sample - loss: 306.3260\n",
            "Epoch 36/100\n",
            "298/298 [==============================] - 0s 58us/sample - loss: 297.1227\n",
            "Epoch 37/100\n",
            "298/298 [==============================] - 0s 54us/sample - loss: 288.0938\n",
            "Epoch 38/100\n",
            "298/298 [==============================] - 0s 59us/sample - loss: 279.3170\n",
            "Epoch 39/100\n",
            "298/298 [==============================] - 0s 59us/sample - loss: 270.6409\n",
            "Epoch 40/100\n",
            "298/298 [==============================] - 0s 62us/sample - loss: 262.2532\n",
            "Epoch 41/100\n",
            "298/298 [==============================] - 0s 70us/sample - loss: 254.0360\n",
            "Epoch 42/100\n",
            "298/298 [==============================] - 0s 58us/sample - loss: 246.0699\n",
            "Epoch 43/100\n",
            "298/298 [==============================] - 0s 61us/sample - loss: 238.4389\n",
            "Epoch 44/100\n",
            "298/298 [==============================] - 0s 62us/sample - loss: 230.8927\n",
            "Epoch 45/100\n",
            "298/298 [==============================] - 0s 65us/sample - loss: 223.6503\n",
            "Epoch 46/100\n",
            "298/298 [==============================] - 0s 57us/sample - loss: 216.5075\n",
            "Epoch 47/100\n",
            "298/298 [==============================] - 0s 57us/sample - loss: 209.5593\n",
            "Epoch 48/100\n",
            "298/298 [==============================] - 0s 54us/sample - loss: 202.8320\n",
            "Epoch 49/100\n",
            "298/298 [==============================] - 0s 55us/sample - loss: 196.3358\n",
            "Epoch 50/100\n",
            "298/298 [==============================] - 0s 63us/sample - loss: 189.9837\n",
            "Epoch 51/100\n",
            "298/298 [==============================] - 0s 56us/sample - loss: 183.8466\n",
            "Epoch 52/100\n",
            "298/298 [==============================] - 0s 64us/sample - loss: 178.0758\n",
            "Epoch 53/100\n",
            "298/298 [==============================] - 0s 60us/sample - loss: 172.4233\n",
            "Epoch 54/100\n",
            "298/298 [==============================] - 0s 73us/sample - loss: 166.9734\n",
            "Epoch 55/100\n",
            "298/298 [==============================] - 0s 61us/sample - loss: 161.7178\n",
            "Epoch 56/100\n",
            "298/298 [==============================] - 0s 69us/sample - loss: 156.6423\n",
            "Epoch 57/100\n",
            "298/298 [==============================] - 0s 54us/sample - loss: 151.7191\n",
            "Epoch 58/100\n",
            "298/298 [==============================] - 0s 55us/sample - loss: 147.0476\n",
            "Epoch 59/100\n",
            "298/298 [==============================] - 0s 59us/sample - loss: 142.5907\n",
            "Epoch 60/100\n",
            "298/298 [==============================] - 0s 54us/sample - loss: 138.1733\n",
            "Epoch 61/100\n",
            "298/298 [==============================] - 0s 62us/sample - loss: 134.0353\n",
            "Epoch 62/100\n",
            "298/298 [==============================] - 0s 61us/sample - loss: 130.0610\n",
            "Epoch 63/100\n",
            "298/298 [==============================] - 0s 68us/sample - loss: 126.2620\n",
            "Epoch 64/100\n",
            "298/298 [==============================] - 0s 69us/sample - loss: 122.6143\n",
            "Epoch 65/100\n",
            "298/298 [==============================] - 0s 73us/sample - loss: 118.9764\n",
            "Epoch 66/100\n",
            "298/298 [==============================] - 0s 67us/sample - loss: 115.5309\n",
            "Epoch 67/100\n",
            "298/298 [==============================] - 0s 60us/sample - loss: 112.3280\n",
            "Epoch 68/100\n",
            "298/298 [==============================] - 0s 57us/sample - loss: 109.1992\n",
            "Epoch 69/100\n",
            "298/298 [==============================] - 0s 54us/sample - loss: 106.1510\n",
            "Epoch 70/100\n",
            "298/298 [==============================] - 0s 56us/sample - loss: 103.3500\n",
            "Epoch 71/100\n",
            "298/298 [==============================] - 0s 68us/sample - loss: 100.6054\n",
            "Epoch 72/100\n",
            "298/298 [==============================] - 0s 57us/sample - loss: 98.1390\n",
            "Epoch 73/100\n",
            "298/298 [==============================] - 0s 53us/sample - loss: 95.6733\n",
            "Epoch 74/100\n",
            "298/298 [==============================] - 0s 54us/sample - loss: 93.4135\n",
            "Epoch 75/100\n",
            "298/298 [==============================] - 0s 62us/sample - loss: 91.0738\n",
            "Epoch 76/100\n",
            "298/298 [==============================] - 0s 67us/sample - loss: 88.9252\n",
            "Epoch 77/100\n",
            "298/298 [==============================] - 0s 64us/sample - loss: 86.9180\n",
            "Epoch 78/100\n",
            "298/298 [==============================] - 0s 58us/sample - loss: 85.0680\n",
            "Epoch 79/100\n",
            "298/298 [==============================] - 0s 55us/sample - loss: 83.2743\n",
            "Epoch 80/100\n",
            "298/298 [==============================] - 0s 56us/sample - loss: 81.5322\n",
            "Epoch 81/100\n",
            "298/298 [==============================] - 0s 93us/sample - loss: 79.9620\n",
            "Epoch 82/100\n",
            "298/298 [==============================] - 0s 62us/sample - loss: 78.4392\n",
            "Epoch 83/100\n",
            "298/298 [==============================] - 0s 60us/sample - loss: 77.0182\n",
            "Epoch 84/100\n",
            "298/298 [==============================] - 0s 62us/sample - loss: 75.6255\n",
            "Epoch 85/100\n",
            "298/298 [==============================] - 0s 64us/sample - loss: 74.3892\n",
            "Epoch 86/100\n",
            "298/298 [==============================] - 0s 53us/sample - loss: 73.1013\n",
            "Epoch 87/100\n",
            "298/298 [==============================] - 0s 55us/sample - loss: 71.9166\n",
            "Epoch 88/100\n",
            "298/298 [==============================] - 0s 57us/sample - loss: 70.7909\n",
            "Epoch 89/100\n",
            "298/298 [==============================] - 0s 58us/sample - loss: 69.8120\n",
            "Epoch 90/100\n",
            "298/298 [==============================] - 0s 60us/sample - loss: 68.7728\n",
            "Epoch 91/100\n",
            "298/298 [==============================] - 0s 65us/sample - loss: 67.8832\n",
            "Epoch 92/100\n",
            "298/298 [==============================] - 0s 58us/sample - loss: 66.9796\n",
            "Epoch 93/100\n",
            "298/298 [==============================] - 0s 54us/sample - loss: 66.1547\n",
            "Epoch 94/100\n",
            "298/298 [==============================] - 0s 62us/sample - loss: 65.3394\n",
            "Epoch 95/100\n",
            "298/298 [==============================] - 0s 60us/sample - loss: 64.6153\n",
            "Epoch 96/100\n",
            "298/298 [==============================] - 0s 66us/sample - loss: 63.9271\n",
            "Epoch 97/100\n",
            "298/298 [==============================] - 0s 61us/sample - loss: 63.2955\n",
            "Epoch 98/100\n",
            "298/298 [==============================] - 0s 68us/sample - loss: 62.6815\n",
            "Epoch 99/100\n",
            "298/298 [==============================] - 0s 71us/sample - loss: 62.1281\n",
            "Epoch 100/100\n",
            "298/298 [==============================] - 0s 63us/sample - loss: 61.5664\n",
            "Final score (RMSE): 9.288120935267338\n"
          ],
          "name": "stdout"
        }
      ]
    },
    {
      "cell_type": "code",
      "metadata": {
        "id": "zZMy_4V6f7sp",
        "colab_type": "code",
        "colab": {
          "base_uri": "https://localhost:8080/",
          "height": 301
        },
        "outputId": "35816052-d438-407b-b9b1-47adf8537bcd"
      },
      "source": [
        "import matplotlib.pyplot as plt\n",
        "plt.xlabel('Epoch Number')\n",
        "plt.ylabel(\"Loss Magnitude\")\n",
        "plt.plot(history.history['loss'])"
      ],
      "execution_count": 69,
      "outputs": [
        {
          "output_type": "execute_result",
          "data": {
            "text/plain": [
              "[<matplotlib.lines.Line2D at 0x7fd75ff35f60>]"
            ]
          },
          "metadata": {
            "tags": []
          },
          "execution_count": 69
        },
        {
          "output_type": "display_data",
          "data": {
            "image/png": "[encoded data removed]",
            "text/plain": [
              "<Figure size 432x288 with 1 Axes>"
            ]
          },
          "metadata": {
            "tags": []
          }
        }
      ]
    },
    {
      "cell_type": "code",
      "metadata": {
        "id": "buo14clkiWEV",
        "colab_type": "code",
        "colab": {
          "base_uri": "https://localhost:8080/",
          "height": 269
        },
        "outputId": "e6c3285b-f1c0-4fad-8e1e-27e09ebc5de1"
      },
      "source": [
        "# Regression chart.\n",
        "def chart_regression(pred, y, sort=True):\n",
        "    t = pd.DataFrame({'pred': pred, 'y': y.flatten()})\n",
        "    if sort:\n",
        "        t.sort_values(by=['y'], inplace=True)\n",
        "    plt.plot(t['y'].tolist(), label='expected')\n",
        "    plt.plot(t['pred'].tolist(), label='prediction')\n",
        "    plt.ylabel('output')\n",
        "    plt.legend()\n",
        "    plt.show()\n",
        "    \n",
        "chart_regression(pred.flatten(),y_test)"
      ],
      "execution_count": 71,
      "outputs": [
        {
          "output_type": "display_data",
          "data": {
            "image/png": "[encoded data removed]",
            "text/plain": [
              "<Figure size 432x288 with 1 Axes>"
            ]
          },
          "metadata": {
            "tags": []
          }
        }
      ]
    }
  ]
}