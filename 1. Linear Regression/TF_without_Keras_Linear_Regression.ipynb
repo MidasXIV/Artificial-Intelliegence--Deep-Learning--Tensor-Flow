{
  "nbformat": 4,
  "nbformat_minor": 0,
  "metadata": {
    "colab": {
      "name": "TF without Keras - Linear Regression.ipynb",
      "version": "0.3.2",
      "provenance": [],
      "collapsed_sections": [],
      "include_colab_link": true
    },
    "kernelspec": {
      "name": "python3",
      "display_name": "Python 3"
    }
  },
  "cells": [
    {
      "cell_type": "markdown",
      "metadata": {
        "id": "view-in-github",
        "colab_type": "text"
      },
      "source": [
        "<a href=\"https://colab.research.google.com/github/MidasXIV/Artificial-Intelliegence--Deep-Learning--Tensor-Flow/blob/master/1.%20Linear%20Regression/TF_without_Keras_Linear_Regression.ipynb\" target=\"_parent\"><img src=\"https://colab.research.google.com/assets/colab-badge.svg\" alt=\"Open In Colab\"/></a>"
      ]
    },
    {
      "cell_type": "markdown",
      "metadata": {
        "id": "Tb5uKUcI-yh3",
        "colab_type": "text"
      },
      "source": [
        "### STEP 1 :  Importing Dependencies"
      ]
    },
    {
      "cell_type": "code",
      "metadata": {
        "id": "lCsh6Gfs-oTz",
        "colab_type": "code",
        "colab": {}
      },
      "source": [
        "import tensorflow as tf\n",
        "tf.logging.set_verbosity(tf.logging.ERROR)\n",
        "import numpy as np\n",
        "from tensorflow import keras\n",
        "import matplotlib.pyplot as plt"
      ],
      "execution_count": 0,
      "outputs": []
    },
    {
      "cell_type": "markdown",
      "metadata": {
        "id": "hHUV1WXC_gWL",
        "colab_type": "text"
      },
      "source": [
        "### STEP 2 : Set up Training Data"
      ]
    },
    {
      "cell_type": "code",
      "metadata": {
        "id": "I5UVOGSb_6pg",
        "colab_type": "code",
        "colab": {}
      },
      "source": [
        "# Formula := y = m * x + b\n",
        "n_samples = 30\n",
        "x_train = np.linspace(0,20,n_samples)                   # Generate random values between 0 & 20\n",
        "# y_train = 3 * x_train + 4 * np.random.randn(n_samples)  # Adding noise to a straight line \n",
        "y_train = 3 * x_train + 4                               # Without noise to a straight line "
      ],
      "execution_count": 0,
      "outputs": []
    },
    {
      "cell_type": "code",
      "metadata": {
        "id": "gWx6562XAKK-",
        "colab_type": "code",
        "colab": {
          "base_uri": "https://localhost:8080/",
          "height": 269
        },
        "outputId": "53ecadfa-381a-4e8a-df27-40efedb102f5"
      },
      "source": [
        "plt.plot(x_train, y_train,'o')      # To plot x_train and y_train\n",
        "plt.plot(x_train, 3 * x_train + 4)  # Straight line\n",
        "plt.show()"
      ],
      "execution_count": 43,
      "outputs": [
        {
          "output_type": "display_data",
          "data": {
            "image/png": "[encoded data removed]",
            "text/plain": [
              "<Figure size 432x288 with 1 Axes>"
            ]
          },
          "metadata": {
            "tags": []
          }
        }
      ]
    },
    {
      "cell_type": "markdown",
      "metadata": {
        "id": "im2HVBJ2K8x0",
        "colab_type": "text"
      },
      "source": [
        "### STEP 3 : Defining Weights and Baises"
      ]
    },
    {
      "cell_type": "code",
      "metadata": {
        "id": "HqaV63jNLSvu",
        "colab_type": "code",
        "colab": {}
      },
      "source": [
        "X = tf.placeholder(tf.float32)\n",
        "Y = tf.placeholder(tf.float32)\n",
        "\n",
        "# Initially the Weights and Biases are Random\n",
        "# They are updated in each epoch based on our Loss and Optimiser Function\n",
        "\n",
        "W = tf.Variable(np.random.randn(),name='weights')\n",
        "B = tf.Variable(np.random.randn(),name='bais')"
      ],
      "execution_count": 0,
      "outputs": []
    },
    {
      "cell_type": "markdown",
      "metadata": {
        "id": "CRCiezKVLuhs",
        "colab_type": "text"
      },
      "source": [
        "### Step 4 : Defining Loss and Optimizer Functions\n",
        "\n",
        "$Loss= 1/2n \\sum_{i=0}^n (Pred(i) - Y_{i}) ^ 2$\n",
        "\n",
        "Smiliar to [Mean Squared Error](https://www.researchgate.net/profile/Alexandros_Karatzoglou/publication/221515860/figure/fig1/AS:339586132791298@1457975051470/Mean-Squared-Error-formula-used-to-evaluate-the-user-model.png)"
      ]
    },
    {
      "cell_type": "code",
      "metadata": {
        "id": "BohsdZs0O7q2",
        "colab_type": "code",
        "colab": {}
      },
      "source": [
        "# Pred = X * W + B\n",
        "Pred = tf.add(tf.multiply(X,W),B)\n",
        "\n",
        "# Define Loss Function\n",
        "# Something that the model should reduce.\n",
        "\n",
        "Loss = tf.reduce_sum((Pred - Y) ** 2) / (2 * n_samples)             # Mean Squared Error\n",
        "Optimizer = tf.train.GradientDescentOptimizer(0.1).minimize(Loss)   # Learning Rate is 0.1\n"
      ],
      "execution_count": 0,
      "outputs": []
    },
    {
      "cell_type": "markdown",
      "metadata": {
        "id": "rRz5KiPtRn-W",
        "colab_type": "text"
      },
      "source": [
        "### Step 5 : Compile , Train Model and Predict"
      ]
    },
    {
      "cell_type": "code",
      "metadata": {
        "id": "1z8fIEqLR8oN",
        "colab_type": "code",
        "colab": {}
      },
      "source": [
        "init = tf.global_variables_initializer()"
      ],
      "execution_count": 0,
      "outputs": []
    },
    {
      "cell_type": "code",
      "metadata": {
        "id": "_9RXffuhSL14",
        "colab_type": "code",
        "colab": {
          "base_uri": "https://localhost:8080/",
          "height": 454
        },
        "outputId": "3262473d-12d7-4cc2-a425-c70a59328615"
      },
      "source": [
        "epochs = 20\n",
        "\n",
        "with tf.Session() as sesh:\n",
        "  sesh.run(init)\n",
        "  for epoch in range(epochs):\n",
        "    for x,y in zip(x_train,y_train):\n",
        "      sesh.run(Optimizer, feed_dict = {X: x, Y:y})\n",
        "      \n",
        "    if not epoch % 2:\n",
        "      c = sesh.run(Loss, feed_dict = {X: x, Y:y})\n",
        "      w = sesh.run(W)\n",
        "      b = sesh.run(B)\n",
        "      print(f'Epoch :: {epoch:04d} | Loss :: {c:.4f} w = {w:.4f} b = {b:.4f}')\n",
        "        \n",
        "  Weight = sesh.run(W)\n",
        "  Bais   = sesh.run(B)\n",
        "  \n",
        "  plt.plot(x_train,y_train,'o')\n",
        "  plt.plot(x_train, x_train * Weight + Bais , label='New Line')  # New Straight Line\n",
        "  plt.plot(x_train, 3 * x_train + 4 , linestyle='dashed', label='Org Line')          # Org Straight line\n",
        "  plt.show()"
      ],
      "execution_count": 33,
      "outputs": [
        {
          "output_type": "stream",
          "text": [
            "Epoch :: 0000 | Loss :: 0.2666 w = 2.6481 b = 0.6772\n",
            "Epoch :: 0002 | Loss :: 0.2666 w = 2.6464 b = 0.7128\n",
            "Epoch :: 0004 | Loss :: 0.2666 w = 2.6447 b = 0.7470\n",
            "Epoch :: 0006 | Loss :: 0.2665 w = 2.6430 b = 0.7799\n",
            "Epoch :: 0008 | Loss :: 0.2665 w = 2.6415 b = 0.8115\n",
            "Epoch :: 0010 | Loss :: 0.2664 w = 2.6400 b = 0.8418\n",
            "Epoch :: 0012 | Loss :: 0.2664 w = 2.6385 b = 0.8709\n",
            "Epoch :: 0014 | Loss :: 0.2664 w = 2.6371 b = 0.8989\n",
            "Epoch :: 0016 | Loss :: 0.2663 w = 2.6358 b = 0.9258\n",
            "Epoch :: 0018 | Loss :: 0.2663 w = 2.6345 b = 0.9516\n"
          ],
          "name": "stdout"
        },
        {
          "output_type": "display_data",
          "data": {
            "image/png": "[encoded data removed]",
            "text/plain": [
              "<Figure size 432x288 with 1 Axes>"
            ]
          },
          "metadata": {
            "tags": []
          }
        }
      ]
    },
    {
      "cell_type": "markdown",
      "metadata": {
        "id": "9x3ypbtebj77",
        "colab_type": "text"
      },
      "source": [
        "### EXTRA : Solving the problem using Tensorflow + Keras\n",
        "\n",
        "This model is tested without having any noise in the straight line."
      ]
    },
    {
      "cell_type": "code",
      "metadata": {
        "id": "QKDVU3G7bzFT",
        "colab_type": "code",
        "colab": {
          "base_uri": "https://localhost:8080/",
          "height": 35
        },
        "outputId": "64875353-5d86-4f61-d1ce-7c2920963ebb"
      },
      "source": [
        "l0 = tf.keras.layers.Dense(units=1, input_shape=[1])\n",
        "model = tf.keras.Sequential([l0])\n",
        "model.compile(loss='mean_squared_error',optimizer=tf.keras.optimizers.Adam(0.1))\n",
        "history = model.fit(x_train, y_train, epochs=200, verbose=False)\n",
        "print(\"Finished training the model\")"
      ],
      "execution_count": 44,
      "outputs": [
        {
          "output_type": "stream",
          "text": [
            "Finished training the model\n"
          ],
          "name": "stdout"
        }
      ]
    },
    {
      "cell_type": "code",
      "metadata": {
        "id": "VeTKVbERcQck",
        "colab_type": "code",
        "colab": {
          "base_uri": "https://localhost:8080/",
          "height": 301
        },
        "outputId": "444048ed-a4e7-42ca-d237-69345bed23ce"
      },
      "source": [
        "import matplotlib.pyplot as plt\n",
        "plt.xlabel('Epoch Number')\n",
        "plt.ylabel(\"Loss Magnitude\")\n",
        "plt.plot(history.history['loss'])"
      ],
      "execution_count": 45,
      "outputs": [
        {
          "output_type": "execute_result",
          "data": {
            "text/plain": [
              "[<matplotlib.lines.Line2D at 0x7f70a86d24e0>]"
            ]
          },
          "metadata": {
            "tags": []
          },
          "execution_count": 45
        },
        {
          "output_type": "display_data",
          "data": {
            "image/png": "[encoded data removed]",
            "text/plain": [
              "<Figure size 432x288 with 1 Axes>"
            ]
          },
          "metadata": {
            "tags": []
          }
        }
      ]
    },
    {
      "cell_type": "code",
      "metadata": {
        "id": "_D2pvvuZcWUH",
        "colab_type": "code",
        "colab": {
          "base_uri": "https://localhost:8080/",
          "height": 54
        },
        "outputId": "1850a43e-9cd1-4a89-ebba-f3963ec20465"
      },
      "source": [
        "print(model.predict([6]))\n",
        "print(6 * 3 + 4)"
      ],
      "execution_count": 47,
      "outputs": [
        {
          "output_type": "stream",
          "text": [
            "[[21.961102]]\n",
            "22\n"
          ],
          "name": "stdout"
        }
      ]
    },
    {
      "cell_type": "code",
      "metadata": {
        "id": "iis7nYxAc4uc",
        "colab_type": "code",
        "colab": {
          "base_uri": "https://localhost:8080/",
          "height": 35
        },
        "outputId": "421faac1-4215-448f-8149-9a584aa9f35a"
      },
      "source": [
        "# Shows first Variable is close to 3 and Second is close to 4\n",
        "print(\"These are the layer variables: {}\".format(l0.get_weights()))"
      ],
      "execution_count": 48,
      "outputs": [
        {
          "output_type": "stream",
          "text": [
            "These are the layer variables: [array([[3.0050516]], dtype=float32), array([3.9307914], dtype=float32)]\n"
          ],
          "name": "stdout"
        }
      ]
    }
  ]
}