{
  "nbformat": 4,
  "nbformat_minor": 0,
  "metadata": {
    "colab": {
      "name": "A Gentle Intro to SKLearn.ipynb",
      "version": "0.3.2",
      "provenance": [],
      "collapsed_sections": [],
      "include_colab_link": true
    },
    "language_info": {
      "codemirror_mode": {
        "name": "ipython",
        "version": 2
      },
      "file_extension": ".py",
      "mimetype": "text/x-python",
      "name": "python",
      "nbconvert_exporter": "python",
      "pygments_lexer": "ipython2",
      "version": "2.7.13"
    },
    "kernelspec": {
      "display_name": "Python 2",
      "language": "python",
      "name": "python2"
    }
  },
  "cells": [
    {
      "cell_type": "markdown",
      "metadata": {
        "id": "view-in-github",
        "colab_type": "text"
      },
      "source": [
        "<a href=\"https://colab.research.google.com/github/MidasXIV/Artificial-Intelliegence--Deep-Learning--Tensor-Flow/blob/master/Udemy%20-%20SciKit-Learn/A_Gentle_Intro_to_SKLearn.ipynb\" target=\"_parent\"><img src=\"https://colab.research.google.com/assets/colab-badge.svg\" alt=\"Open In Colab\"/></a>"
      ]
    },
    {
      "cell_type": "markdown",
      "metadata": {
        "id": "O4JqFrcDXUso",
        "colab_type": "text"
      },
      "source": [
        "# Welcome to **A Gentle Introduction to Machine Learning Using SciKit-Learn**"
      ]
    },
    {
      "cell_type": "markdown",
      "metadata": {
        "id": "ZcaofKrCXUsp",
        "colab_type": "text"
      },
      "source": [
        "This course focuses on a specific sub-field of machine learning called **predictive modeling.**\n",
        "\n",
        "This is the type of machine learning that the scikit-learn library in Python was desinged for. \n",
        "\n",
        ">**Predictive modeling** is focused on developing models that make accurate predictions at the expense of explaining why predictions are made. \n",
        "\n",
        "You and I don't need to be able to write a binary classification model. We need to know how to use and interpret the results of the model. "
      ]
    },
    {
      "cell_type": "markdown",
      "metadata": {
        "id": "MpyxD_x-XUsq",
        "colab_type": "text"
      },
      "source": [
        "**Where does machine learning fit into data science?**\n",
        "\n",
        "Data science is a much broader discipline. \n",
        "\n",
        "> Data Scientists take the raw data, analyse it, connect the dots and tell a story often via several visualizations. They usually have a broader range of skill-set and may not have too much depth into more than one or two. They are more on the creative side. Like an Artist. An Engineer, on the other hand, is someone who looks at the data as something they have to take in and churn out an output in some appropriate form in the most efficient way possible. The implementation details and other efficiency hacks are usually on the tip of their fingers. There can be a lot of overlap between the two but it is more like A Data Scientist is a Machine Learning Engineer but not the other way round. -- Ria Chakraborty, Data Scientist\n",
        "\n",
        "\n",
        "\n"
      ]
    },
    {
      "cell_type": "markdown",
      "metadata": {
        "id": "0wIZQiSXXUsr",
        "colab_type": "text"
      },
      "source": [
        "### Machine Learning Can Only Answer 5 Questions\n",
        "\n",
        "\n",
        "* How much/how many?\n",
        "* Which category?\n",
        "* Which group?\n",
        "* Is it weird?\n",
        "* Which action?\n",
        "\n",
        "<p style=\"text-align:right\"><i>explained well by Brandon Rohrer [here]((https://channel9.msdn.com/blogs/Cloud-and-Enterprise-Premium/Data-Science-for-Rest-of-Us)</i></p>"
      ]
    },
    {
      "cell_type": "markdown",
      "metadata": {
        "id": "TJCP37UiXUss",
        "colab_type": "text"
      },
      "source": [
        "### sklearns way of algorithms\n",
        "\n",
        "Here is sklearn's algorithm diagram. The interactive version is [here](http://scikit-learn.org/stable/tutorial/machine_learning_map/).\n",
        "![sklearn's ML map](https://az712634.vo.msecnd.net/notebooks/python_course/v1/ml_map.png)"
      ]
    },
    {
      "cell_type": "markdown",
      "metadata": {
        "id": "L6t8nbvjXUst",
        "colab_type": "text"
      },
      "source": [
        "**Why I like scikit-learn**\n",
        "\n",
        "- Commitment to documentation and usability\n",
        "\n",
        "- Models are chosen and implemented by a dedicated team of experts\n",
        "\n",
        "- Covers most machine-learning tasks\n",
        "\n",
        "- Python and Pydata\n",
        "\n",
        "- Focus\n",
        "\n",
        "- Scikit-learn scales to most data problems\n",
        "\n",
        "- <p><a href=\"http://oreil.ly/2n7xnVJ\"> Ben Lorica on Using SciKit-Learn</a></p>\n"
      ]
    },
    {
      "cell_type": "markdown",
      "metadata": {
        "id": "893eMX1iXUsu",
        "colab_type": "text"
      },
      "source": [
        "**Getting Started**\n",
        "\n",
        "- Installing Python \n",
        "\n",
        "- <p><a href=\"https://www.continuum.io/downloads\"> Anaconda Installer</a></p>\n",
        "\n",
        "- Using Jupyter Notebooks\n",
        "\n",
        "- Importing Libraries and Modules\n"
      ]
    },
    {
      "cell_type": "markdown",
      "metadata": {
        "id": "LXmp49_WXUsu",
        "colab_type": "text"
      },
      "source": [
        "# **The Model Building Starts Now...**"
      ]
    },
    {
      "cell_type": "markdown",
      "metadata": {
        "id": "dhbFeRbUXUsv",
        "colab_type": "text"
      },
      "source": [
        "The word **'import'** simply means... bring in these libraries so we can use them. \n",
        "\n",
        "When we use the **from** keyword with import it means we are only importing one section or module. In the code below we are importing **read_csv** from pandas and **set_printoptions** from numpy. \n",
        "\n",
        "The word **numpy** means numerical python. "
      ]
    },
    {
      "cell_type": "code",
      "metadata": {
        "id": "EZFo9XPcXUsw",
        "colab_type": "code",
        "colab": {}
      },
      "source": [
        "from pandas import read_csv\n",
        "from numpy import set_printoptions "
      ],
      "execution_count": 0,
      "outputs": []
    },
    {
      "cell_type": "markdown",
      "metadata": {
        "id": "qlEB-kV7XUs0",
        "colab_type": "text"
      },
      "source": [
        "Most machine learning tools use CSV files. A CSV fie is a comma separated values file. \n",
        "It's like an excel spreadsheet. In the learning world we get to work with very clean csv files. \n",
        "\n",
        "> In the real world... not so much. \n",
        "\n",
        "The data set we are working with was exported from a SQL Server data warehouse training database. \n"
      ]
    },
    {
      "cell_type": "markdown",
      "metadata": {
        "id": "XglAYKIvXUs1",
        "colab_type": "text"
      },
      "source": [
        "In the code below we are reading a csv file. Notice that we are not specifying a path. So, how does the notebook know where the csv file is? Because we've placed it in the working directory. "
      ]
    },
    {
      "cell_type": "markdown",
      "metadata": {
        "id": "jicSh6tRXUs1",
        "colab_type": "text"
      },
      "source": [
        "You can use the os.getwd() function to see where your working directory is. "
      ]
    },
    {
      "cell_type": "code",
      "metadata": {
        "id": "CBwUlzW7aqce",
        "colab_type": "code",
        "colab": {
          "resources": {
            "http://localhost:8080/nbextensions/google.colab/files.js": {
              "data": "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",
              "ok": true,
              "headers": [
                [
                  "content-type",
                  "application/javascript"
                ]
              ],
              "status": 200,
              "status_text": ""
            }
          },
          "base_uri": "https://localhost:8080/",
          "height": 74
        },
        "outputId": "2b237a11-81df-4d20-a798-78678c6856cc"
      },
      "source": [
        "# Google Colab : To Upload File from Computer\n",
        "\n",
        "from google.colab import files\n",
        "uploaded = files.upload()"
      ],
      "execution_count": 6,
      "outputs": [
        {
          "output_type": "display_data",
          "data": {
            "text/plain": [
              "<IPython.core.display.HTML object>"
            ],
            "text/html": [
              "\n",
              "     <input type=\"file\" id=\"files-5b005a34-0db3-42c7-be81-46175cc71f56\" name=\"files[]\" multiple disabled />\n",
              "     <output id=\"result-5b005a34-0db3-42c7-be81-46175cc71f56\">\n",
              "      Upload widget is only available when the cell has been executed in the\n",
              "      current browser session. Please rerun this cell to enable.\n",
              "      </output>\n",
              "      <script src=\"/nbextensions/google.colab/files.js\"></script> "
            ]
          },
          "metadata": {
            "tags": []
          }
        },
        {
          "output_type": "stream",
          "text": [
            "Saving BBC.csv to BBC.csv\n"
          ],
          "name": "stdout"
        }
      ]
    },
    {
      "cell_type": "code",
      "metadata": {
        "id": "BOYyGQ3Jaxfv",
        "colab_type": "code",
        "colab": {
          "base_uri": "https://localhost:8080/",
          "height": 68
        },
        "outputId": "3eadffc7-9540-4c77-cbcd-d79c7b767463"
      },
      "source": [
        "# Google Colab : Testing File\n",
        "\n",
        "filename = 'BBC.csv'\n",
        "\n",
        "print (uploaded[filename][:200].decode('utf-8') + '...')"
      ],
      "execution_count": 8,
      "outputs": [
        {
          "output_type": "stream",
          "text": [
            "MaritalStatus,Gender,YearlyIncome,TotalChildren,NumberChildrenAtHome,EnglishEducation,HouseOwnerFlag,NumberCarsOwned,CommuteDistance,Region,Age,BikeBuyer\r\n",
            "5,1,90000,2,0,5,1,0,2,2,50,1\r\n",
            "5,1,60000,3,3,5...\n"
          ],
          "name": "stdout"
        }
      ]
    },
    {
      "cell_type": "code",
      "metadata": {
        "id": "DQlPY78HZOc3",
        "colab_type": "code",
        "colab": {}
      },
      "source": [
        "# Works on Google Colab\n",
        "\n",
        "import pandas as pd\n",
        "import io\n",
        "\n",
        "dataframe = pd.read_csv(io.StringIO(uploaded[filename].decode('utf-8')))\n",
        "\n",
        "# dataframe # To view the dataset"
      ],
      "execution_count": 0,
      "outputs": []
    },
    {
      "cell_type": "code",
      "metadata": {
        "id": "2dqXpLjYXUs2",
        "colab_type": "code",
        "colab": {}
      },
      "source": [
        "# Works on Jupyter NoteBook\n",
        "\n",
        "filename = 'BBC.csv'\n",
        "dataframe = read_csv(filename) "
      ],
      "execution_count": 0,
      "outputs": []
    },
    {
      "cell_type": "code",
      "metadata": {
        "id": "4a4ZwKX8XUs5",
        "colab_type": "code",
        "colab": {
          "base_uri": "https://localhost:8080/",
          "height": 34
        },
        "outputId": "f81ce531-11a7-42a9-d6eb-c997788ab0ae"
      },
      "source": [
        "import  os\n",
        "print os.getcwd() "
      ],
      "execution_count": 11,
      "outputs": [
        {
          "output_type": "stream",
          "text": [
            "/content\n"
          ],
          "name": "stdout"
        }
      ]
    },
    {
      "cell_type": "markdown",
      "metadata": {
        "id": "EhwlnYstXUs-",
        "colab_type": "text"
      },
      "source": [
        "In the code below take note of the syntax used to specify a folder NOT in the default directory. \n",
        "\n",
        "> The **df** is just a variable for holding the csv file. In a few cells below this one we will call the variable dataframe. "
      ]
    },
    {
      "cell_type": "code",
      "metadata": {
        "id": "nBF2BkhJXUs_",
        "colab_type": "code",
        "colab": {}
      },
      "source": [
        "df = read_csv('datafiles/BBC.csv')"
      ],
      "execution_count": 0,
      "outputs": []
    },
    {
      "cell_type": "markdown",
      "metadata": {
        "id": "s1c96VM3XUtB",
        "colab_type": "text"
      },
      "source": [
        "We can use the head() function to return the top x number of rows. \n",
        "\n",
        "> We can put a number in the function to return any number we like. \n",
        "\n",
        "For example, we can run dataframe.head(25) to return the top 25 rows. "
      ]
    },
    {
      "cell_type": "markdown",
      "metadata": {
        "id": "hO6qhAKcXUtC",
        "colab_type": "text"
      },
      "source": [
        "Now we can investigate our data. Let's see how many **attributes** and how many **observations** there are in our data set. \n",
        "\n",
        "> Notice we are using the alias dataframe that we used when we read in our data set. \n",
        "\n",
        "Using **shape** really means... how many columns and rows are in our data set.\n",
        "\n",
        "Don't forget the dataframe is just the alias we are using. "
      ]
    },
    {
      "cell_type": "code",
      "metadata": {
        "id": "kMjpA0NFXUtD",
        "colab_type": "code",
        "colab": {}
      },
      "source": [
        "dataframe.tail(5)"
      ],
      "execution_count": 0,
      "outputs": []
    },
    {
      "cell_type": "code",
      "metadata": {
        "id": "1gB60thzXUtI",
        "colab_type": "code",
        "colab": {
          "base_uri": "https://localhost:8080/",
          "height": 34
        },
        "outputId": "ec40a148-70e5-414a-db75-443b794f531f"
      },
      "source": [
        "dataframe.shape"
      ],
      "execution_count": 13,
      "outputs": [
        {
          "output_type": "execute_result",
          "data": {
            "text/plain": [
              "(18484, 12)"
            ]
          },
          "metadata": {
            "tags": []
          },
          "execution_count": 13
        }
      ]
    },
    {
      "cell_type": "markdown",
      "metadata": {
        "id": "g-UsikQDXUtL",
        "colab_type": "text"
      },
      "source": [
        "The describe function gives us descriptive statistics about our data. \n",
        "\n",
        "- **mean** = average \n",
        "- **median** = values in the middle of the range\n",
        "- **mode** = The number which appears most often in a set of numbers\n",
        "\n",
        "What is the average age in our data set? \n",
        "\n",
        "What is the maximimun number of cars owned by a person in our data set? "
      ]
    },
    {
      "cell_type": "code",
      "metadata": {
        "id": "jhjdIl78XUtL",
        "colab_type": "code",
        "colab": {
          "base_uri": "https://localhost:8080/",
          "height": 51
        },
        "outputId": "224660e6-23ee-47a9-dc31-241c814dcd9d"
      },
      "source": [
        "print(\"Average Age    : \" + str(dataframe['Age'].mean()))\n",
        "print(\"Max Cars Owned : \" + str(dataframe['NumberCarsOwned'].max()))"
      ],
      "execution_count": 29,
      "outputs": [
        {
          "output_type": "stream",
          "text": [
            "Average Age    : 54.60392772127245\n",
            "Max Cars Owned : 4\n"
          ],
          "name": "stdout"
        }
      ]
    },
    {
      "cell_type": "code",
      "metadata": {
        "id": "Y-4jr8BghWrm",
        "colab_type": "code",
        "colab": {}
      },
      "source": [
        "dataframe.describe()"
      ],
      "execution_count": 0,
      "outputs": []
    },
    {
      "cell_type": "markdown",
      "metadata": {
        "id": "JFFckc0_XUtN",
        "colab_type": "text"
      },
      "source": [
        "In the dataframe below we are assigning our dataframe to an array. "
      ]
    },
    {
      "cell_type": "code",
      "metadata": {
        "id": "dzEFMdqdXUtO",
        "colab_type": "code",
        "colab": {}
      },
      "source": [
        "array = dataframe.values"
      ],
      "execution_count": 0,
      "outputs": []
    },
    {
      "cell_type": "markdown",
      "metadata": {
        "id": "Uu-8uE4wXUtQ",
        "colab_type": "text"
      },
      "source": [
        "The code below is the trickest part of the exercise. Now, we are assinging X and y to an array. \n",
        "\n",
        "> That looks pretty easy but keep in mind that an array starts at 0. \n",
        "\n",
        "If you take a look at the shape of our dataframe (shape means the number of columns and rows) you can see we have 12 rows. \n",
        "\n",
        "On the X array below we saying... include all items in the array from 0 to 11. \n",
        "\n",
        "On the y array below we are saying... just use the column in the array mapped to the **11th row**. The **BikeBuyer** column. \n",
        "\n",
        "\n",
        "\n"
      ]
    },
    {
      "cell_type": "code",
      "metadata": {
        "id": "uvkGEqtwXUtR",
        "colab_type": "code",
        "colab": {}
      },
      "source": [
        "X = array[:,0:11] \n",
        "Y = array[:,11]"
      ],
      "execution_count": 0,
      "outputs": []
    },
    {
      "cell_type": "markdown",
      "metadata": {
        "id": "NMOSAbJWXUtT",
        "colab_type": "text"
      },
      "source": [
        "We are using group by to view the distribution of values in our **BikeBuyer** column. Recall that this column is our **target variable**. It's that thing we are trying to predict. \n",
        "\n",
        "The really nice part about the distribution of buyers and non-buyers (the number of 1s versus 0s) is that they are balanced. \n",
        "\n",
        "> This is actually very important when it comes to scoring our model. Classiﬁcation accuracy is the number of correct predictions made as a ratio of all predictions made. This is the most common evaluation metric for classiﬁcation problems, it is also the most misused.\n",
        "\n",
        "**Accuracy** is only really useful when there are an even distribution of values in a data set. The good news for us is in our data set they are nearly perfectly even. "
      ]
    },
    {
      "cell_type": "code",
      "metadata": {
        "id": "oym6fLnCXUtU",
        "colab_type": "code",
        "colab": {
          "base_uri": "https://localhost:8080/",
          "height": 85
        },
        "outputId": "1edb30fd-1784-4510-aa38-bdf602c7f566"
      },
      "source": [
        "print(dataframe.groupby('BikeBuyer').size())"
      ],
      "execution_count": 32,
      "outputs": [
        {
          "output_type": "stream",
          "text": [
            "BikeBuyer\n",
            "0    9352\n",
            "1    9132\n",
            "dtype: int64\n"
          ],
          "name": "stdout"
        }
      ]
    },
    {
      "cell_type": "markdown",
      "metadata": {
        "id": "9PJetVtMXUtX",
        "colab_type": "text"
      },
      "source": [
        "In the next cell let's import a model called **train_test_split** and one called **SVC**. \n",
        "\n",
        "Learning the parameters of a prediction function and testing it on the same data is a methodological mistake: a model that would just repeat the labels of the samples that it has just seen would have a perfect score but would fail to predict anything useful on yet-unseen data. \n",
        "\n",
        "> This situation is called **overfitting.** To avoid it, it is common practice when performing a (supervised) machine learning experiment to hold out part of the available data as a test set X_test, y_test. \n",
        "\n",
        "We are also importing a Support Vector Machine (sklearn.**svm**) If you navigate to the sklearn picture above you can see that SVC is a classifier in the labled data section. Many real world models will use classificaiton.\n",
        "\n",
        "In sklearn it's called a SVC or support vector classifier. \n",
        "\n",
        "\n"
      ]
    },
    {
      "cell_type": "markdown",
      "metadata": {
        "id": "uqHcnt4ZXUtY",
        "colab_type": "text"
      },
      "source": [
        "Support Vector Machines (SVMs) are a powerful supervised learning algorithm used for classification or for regression. SVMs are a discriminative classifier: that is, they draw a boundary between clusters of data.\n",
        "\n",
        "> <p><a href=\"https://www.youtube.com/watch?v=eUfvyUEGMD8&t=21s\"> Worlds Best SVM Overview</a></p>\n",
        "\n",
        "Support Vector Machines are perhaps one of the most popular and talked about machine learning algorithms."
      ]
    },
    {
      "cell_type": "code",
      "metadata": {
        "id": "LS-FKV55XUtZ",
        "colab_type": "code",
        "colab": {}
      },
      "source": [
        "from sklearn.model_selection import train_test_split \n",
        "from sklearn.svm import SVC"
      ],
      "execution_count": 0,
      "outputs": []
    },
    {
      "cell_type": "markdown",
      "metadata": {
        "id": "XX50TGZaXUtb",
        "colab_type": "text"
      },
      "source": [
        "In the cell below we are specifying the test size. If our test size is 25% of the data then our training size is 75% of the data. \n",
        "\n",
        "Most modelers choose to split their data 70/30 or 80/20. The larger portion is used to train the data. \n",
        "\n",
        "The seed below is so we can reproduce our results. "
      ]
    },
    {
      "cell_type": "code",
      "metadata": {
        "id": "UHekXbcIXUtc",
        "colab_type": "code",
        "colab": {}
      },
      "source": [
        "test_size = 0.25\n",
        "seed = 7"
      ],
      "execution_count": 0,
      "outputs": []
    },
    {
      "cell_type": "markdown",
      "metadata": {
        "id": "VUFTvIpGXUtg",
        "colab_type": "text"
      },
      "source": [
        "In the cell below we are creating the split. Take note we are using the variables above. \n",
        "\n",
        "- test_size=test_size\n",
        "- random_state=seed\n",
        "\n"
      ]
    },
    {
      "cell_type": "code",
      "metadata": {
        "id": "6gIiTddHXUth",
        "colab_type": "code",
        "colab": {}
      },
      "source": [
        "X_train, X_test, Y_train, Y_test = train_test_split(X, Y, test_size=test_size, random_state=seed)"
      ],
      "execution_count": 0,
      "outputs": []
    },
    {
      "cell_type": "markdown",
      "metadata": {
        "id": "Ce_BLyhcXUtl",
        "colab_type": "text"
      },
      "source": [
        "Next we set the model we are going to use. In the code below we are simply creating a variable or place holder called model for the SVC algorithm. "
      ]
    },
    {
      "cell_type": "code",
      "metadata": {
        "id": "kXdFTZzoXUtl",
        "colab_type": "code",
        "colab": {}
      },
      "source": [
        "model = SVC()"
      ],
      "execution_count": 0,
      "outputs": []
    },
    {
      "cell_type": "markdown",
      "metadata": {
        "id": "Mde9w6AqXUto",
        "colab_type": "text"
      },
      "source": [
        "In the cell below we are fitting our model variable to our training set. The code is clean and straightforward. For now, we call the model as is without any parameters. \n",
        "\n",
        "> Many of the classification models tend to do well out of the box. That means you can often get solid results without much tuning. "
      ]
    },
    {
      "cell_type": "code",
      "metadata": {
        "id": "dtgSevpAXUto",
        "colab_type": "code",
        "colab": {
          "base_uri": "https://localhost:8080/",
          "height": 139
        },
        "outputId": "0ebd6de6-f07f-44d3-95d9-0854b6f6cd16"
      },
      "source": [
        "model.fit(X_train, Y_train) "
      ],
      "execution_count": 37,
      "outputs": [
        {
          "output_type": "stream",
          "text": [
            "/usr/local/lib/python2.7/dist-packages/sklearn/svm/base.py:196: FutureWarning: The default value of gamma will change from 'auto' to 'scale' in version 0.22 to account better for unscaled features. Set gamma explicitly to 'auto' or 'scale' to avoid this warning.\n",
            "  \"avoid this warning.\", FutureWarning)\n"
          ],
          "name": "stderr"
        },
        {
          "output_type": "execute_result",
          "data": {
            "text/plain": [
              "SVC(C=1.0, cache_size=200, class_weight=None, coef0=0.0,\n",
              "  decision_function_shape='ovr', degree=3, gamma='auto_deprecated',\n",
              "  kernel='rbf', max_iter=-1, probability=False, random_state=None,\n",
              "  shrinking=True, tol=0.001, verbose=False)"
            ]
          },
          "metadata": {
            "tags": []
          },
          "execution_count": 37
        }
      ]
    },
    {
      "cell_type": "markdown",
      "metadata": {
        "id": "9D75VEX0XUtr",
        "colab_type": "text"
      },
      "source": [
        "Next we use result to get the results of model."
      ]
    },
    {
      "cell_type": "code",
      "metadata": {
        "id": "hXlckiEXXUts",
        "colab_type": "code",
        "colab": {}
      },
      "source": [
        "result = model.score(X_test, Y_test)"
      ],
      "execution_count": 0,
      "outputs": []
    },
    {
      "cell_type": "markdown",
      "metadata": {
        "id": "2HP1z_EOXUtu",
        "colab_type": "text"
      },
      "source": [
        "Lastly we print the accuracy of our model. "
      ]
    },
    {
      "cell_type": "code",
      "metadata": {
        "id": "733HK2dPXUtv",
        "colab_type": "code",
        "colab": {
          "base_uri": "https://localhost:8080/",
          "height": 34
        },
        "outputId": "c2ac71b3-2c1d-46df-fe35-dd134dd7b83b"
      },
      "source": [
        "print(\"Accuracy: %.3f%%\") % (result*100.0)"
      ],
      "execution_count": 39,
      "outputs": [
        {
          "output_type": "stream",
          "text": [
            "Accuracy: 79.139%\n"
          ],
          "name": "stdout"
        }
      ]
    },
    {
      "cell_type": "markdown",
      "metadata": {
        "id": "gXc3bmLsXUty",
        "colab_type": "text"
      },
      "source": [
        "In the code below let's put it all togehter. "
      ]
    },
    {
      "cell_type": "code",
      "metadata": {
        "id": "FeOi4MguXUty",
        "colab_type": "code",
        "colab": {
          "base_uri": "https://localhost:8080/",
          "height": 88
        },
        "outputId": "7f449964-7381-45af-c3c3-e4889420acce"
      },
      "source": [
        "from pandas import read_csv\n",
        "from numpy import set_printoptions\n",
        "from sklearn.model_selection import train_test_split \n",
        "from sklearn.svm import SVC\n",
        "from sklearn.neighbors import KNeighborsClassifier \n",
        "from sklearn.ensemble import RandomForestClassifier\n",
        "\n",
        "# filename = 'BBC.csv'\n",
        "# dataframe = read_csv(filename) \n",
        "\n",
        "array = dataframe.values\n",
        "X = array[:,0:11] \n",
        "Y = array[:,11]\n",
        "\n",
        "test_size = .30\n",
        "seed = 45\n",
        "X_train, X_test, Y_train, Y_test = train_test_split(X, Y, test_size=test_size, random_state=seed)\n",
        "\n",
        "model = RandomForestClassifier()\n",
        "model.fit(X_train, Y_train) \n",
        "\n",
        "result = model.score(X_test, Y_test)\n",
        "\n",
        "print(\"Accuracy: %.3f%%\") % (result*100.0)\n"
      ],
      "execution_count": 40,
      "outputs": [
        {
          "output_type": "stream",
          "text": [
            "Accuracy: 77.930%\n"
          ],
          "name": "stdout"
        },
        {
          "output_type": "stream",
          "text": [
            "/usr/local/lib/python2.7/dist-packages/sklearn/ensemble/forest.py:246: FutureWarning: The default value of n_estimators will change from 10 in version 0.20 to 100 in 0.22.\n",
            "  \"10 in version 0.20 to 100 in 0.22.\", FutureWarning)\n"
          ],
          "name": "stderr"
        }
      ]
    },
    {
      "cell_type": "markdown",
      "metadata": {
        "id": "C4ziwiNHXUt1",
        "colab_type": "text"
      },
      "source": [
        "In cell below let's use a different algorithim for our tests. \n",
        "\n",
        "> We are going to run our entire model in one cell. \n",
        "\n",
        "We only have to take two simple steps to substitue another model. \n",
        "\n",
        "- Import the new model. (from sklearn.neighbors import KNeighborsClassifier)\n",
        "- Map the model variable to our new algorithm. (model = KNeighborsClassifier())\n",
        "\n",
        "I use comments below to show what was changed. "
      ]
    },
    {
      "cell_type": "code",
      "metadata": {
        "id": "iuImzJl6XUt2",
        "colab_type": "code",
        "colab": {
          "base_uri": "https://localhost:8080/",
          "height": 34
        },
        "outputId": "ccb795c5-464e-4751-fd78-1347e8f3fb0b"
      },
      "source": [
        "from pandas import read_csv\n",
        "from numpy import set_printoptions\n",
        "from sklearn.model_selection import train_test_split \n",
        "from sklearn.svm import SVC\n",
        "from sklearn.neighbors import KNeighborsClassifier \n",
        "from sklearn.ensemble import RandomForestClassifier\n",
        "\n",
        "# filename = 'BBC.csv'\n",
        "# dataframe = read_csv(filename) \n",
        "\n",
        "array = dataframe.values\n",
        "X = array[:,0:11] \n",
        "Y = array[:,11]\n",
        "\n",
        "test_size = .30\n",
        "seed = 45\n",
        "X_train, X_test, Y_train, Y_test = train_test_split(X, Y, test_size=test_size, random_state=seed)\n",
        "\n",
        "model = SVC()\n",
        "model.fit(X_train, Y_train) \n",
        "\n",
        "result = model.score(X_test, Y_test)\n",
        "\n",
        "print(\"Accuracy: %.3f%%\") % (result*100.0)"
      ],
      "execution_count": 41,
      "outputs": [
        {
          "output_type": "stream",
          "text": [
            "Accuracy: 78.164%\n"
          ],
          "name": "stdout"
        }
      ]
    },
    {
      "cell_type": "code",
      "metadata": {
        "id": "KVJ-sShv5Von",
        "colab_type": "code",
        "colab": {
          "base_uri": "https://localhost:8080/",
          "height": 34
        },
        "outputId": "a141b037-11dd-47d5-e382-8e19f0b39f24"
      },
      "source": [
        "from pandas import read_csv\n",
        "from numpy import set_printoptions\n",
        "from sklearn.model_selection import train_test_split \n",
        "from sklearn.svm import SVC\n",
        "from sklearn.neighbors import KNeighborsClassifier \n",
        "from sklearn.ensemble import RandomForestClassifier\n",
        "\n",
        "# filename = 'BBC.csv'\n",
        "# dataframe = read_csv(filename) \n",
        "\n",
        "array = dataframe.values\n",
        "X = array[:,0:11] \n",
        "Y = array[:,11]\n",
        "\n",
        "test_size = .30\n",
        "seed = 95\n",
        "X_train, X_test, Y_train, Y_test = train_test_split(X, Y, test_size=test_size, random_state=seed)\n",
        "\n",
        "model = KNeighborsClassifier(5)\n",
        "model.fit(X_train, Y_train) \n",
        "\n",
        "result = model.score(X_test, Y_test)\n",
        "\n",
        "print(\"Accuracy: %.3f%%\") % (result*100.0)"
      ],
      "execution_count": 57,
      "outputs": [
        {
          "output_type": "stream",
          "text": [
            "Accuracy: 78.237%\n"
          ],
          "name": "stdout"
        }
      ]
    },
    {
      "cell_type": "code",
      "metadata": {
        "id": "r9KdKaT-8NlA",
        "colab_type": "code",
        "colab": {
          "base_uri": "https://localhost:8080/",
          "height": 34
        },
        "outputId": "a01c6e6b-db54-4d34-cecf-12d6d3f977d9"
      },
      "source": [
        "from pandas import read_csv\n",
        "from numpy import set_printoptions\n",
        "from sklearn.model_selection import train_test_split \n",
        "from sklearn.svm import SVC\n",
        "from sklearn.neighbors import KNeighborsClassifier \n",
        "from sklearn.ensemble import RandomForestClassifier\n",
        "from sklearn.naive_bayes import GaussianNB\n",
        "\n",
        "# filename = 'BBC.csv'\n",
        "# dataframe = read_csv(filename) \n",
        "\n",
        "array = dataframe.values\n",
        "X = array[:,0:11] \n",
        "Y = array[:,11]\n",
        "\n",
        "test_size = .30\n",
        "seed = 7\n",
        "X_train, X_test, Y_train, Y_test = train_test_split(X, Y, test_size=test_size, random_state=seed)\n",
        "\n",
        "model = GaussianNB()\n",
        "model.fit(X_train, Y_train) \n",
        "\n",
        "result = model.score(X_test, Y_test)\n",
        "\n",
        "print(\"Accuracy: %.3f%%\") % (result*100.0)"
      ],
      "execution_count": 61,
      "outputs": [
        {
          "output_type": "stream",
          "text": [
            "Accuracy: 61.612%\n"
          ],
          "name": "stdout"
        }
      ]
    },
    {
      "cell_type": "code",
      "metadata": {
        "id": "Z568Hztn86Kz",
        "colab_type": "code",
        "colab": {
          "base_uri": "https://localhost:8080/",
          "height": 164
        },
        "outputId": "e60db724-39e2-45c1-c4d5-0646bfcdd3d9"
      },
      "source": [
        ""
      ],
      "execution_count": 62,
      "outputs": [
        {
          "output_type": "error",
          "ename": "TypeError",
          "evalue": "ignored",
          "traceback": [
            "\u001b[0;31m\u001b[0m",
            "\u001b[0;31mTypeError\u001b[0mTraceback (most recent call last)",
            "\u001b[0;32m<ipython-input-62-c14c5ee82961>\u001b[0m in \u001b[0;36m<module>\u001b[0;34m()\u001b[0m\n\u001b[0;32m----> 1\u001b[0;31m \u001b[0mmodel\u001b[0m\u001b[0;34m.\u001b[0m\u001b[0mpredict\u001b[0m\u001b[0;34m(\u001b[0m\u001b[0;34m)\u001b[0m\u001b[0;34m\u001b[0m\u001b[0m\n\u001b[0m",
            "\u001b[0;31mTypeError\u001b[0m: predict() takes exactly 2 arguments (1 given)"
          ]
        }
      ]
    }
  ]
}