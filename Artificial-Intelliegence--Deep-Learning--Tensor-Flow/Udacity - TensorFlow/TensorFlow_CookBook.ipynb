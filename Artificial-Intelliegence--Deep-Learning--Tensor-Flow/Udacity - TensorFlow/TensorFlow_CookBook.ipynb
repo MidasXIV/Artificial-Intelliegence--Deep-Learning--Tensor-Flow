{
  "nbformat": 4,
  "nbformat_minor": 0,
  "metadata": {
    "colab": {
      "name": "TensorFlow_CookBook.ipynb",
      "version": "0.3.2",
      "provenance": [],
      "include_colab_link": true
    },
    "kernelspec": {
      "name": "python3",
      "display_name": "Python 3"
    }
  },
  "cells": [
    {
      "cell_type": "markdown",
      "metadata": {
        "id": "view-in-github",
        "colab_type": "text"
      },
      "source": [
        "<a href=\"https://colab.research.google.com/github/MidasXIV/Artificial-Intelliegence--Deep-Learning--Tensor-Flow/blob/master/Artificial-Intelliegence--Deep-Learning--Tensor-Flow/Udacity%20-%20TensorFlow/TensorFlow_CookBook.ipynb\" target=\"_parent\"><img src=\"https://colab.research.google.com/assets/colab-badge.svg\" alt=\"Open In Colab\"/></a>"
      ]
    },
    {
      "cell_type": "markdown",
      "metadata": {
        "id": "POLm_f9zKgIg",
        "colab_type": "text"
      },
      "source": [
        "# TensorFlow - CookBook\n",
        "---"
      ]
    },
    {
      "cell_type": "code",
      "metadata": {
        "id": "UjKsSYrr8e1o",
        "colab_type": "code",
        "colab": {}
      },
      "source": [
        ""
      ],
      "execution_count": 0,
      "outputs": []
    }
  ]
}